{
 "cells": [
  {
   "cell_type": "code",
   "execution_count": 2,
   "metadata": {},
   "outputs": [],
   "source": [
    "import os\n",
    "import services as _services\n",
    "\n"
   ]
  },
  {
   "cell_type": "code",
   "execution_count": 3,
   "metadata": {},
   "outputs": [
    {
     "data": {
      "text/plain": [
       "['.DS_Store', 'hired_employees', 'departments', 'jobs']"
      ]
     },
     "execution_count": 3,
     "metadata": {},
     "output_type": "execute_result"
    }
   ],
   "source": [
    "files_name = list(map(lambda x: os.path.basename(x).replace(\".csv\",\"\"),os.listdir(\"data\")))\n",
    "files_name"
   ]
  },
  {
   "cell_type": "code",
   "execution_count": 4,
   "metadata": {},
   "outputs": [
    {
     "name": "stdout",
     "output_type": "stream",
     "text": [
      "['data/hired_employees.csv', 'data/departments.csv', 'data/jobs.csv']\n"
     ]
    }
   ],
   "source": [
    "file_paths = [f\"data/{filename}.csv\" for filename in _services.get_all_files(\"data\")]\n",
    "print(file_paths)\n"
   ]
  },
  {
   "cell_type": "code",
   "execution_count": 5,
   "metadata": {},
   "outputs": [],
   "source": [
    "from fastapi import File, UploadFile\n",
    "import pandas as pd\n",
    "import sqlalchemy as sa\n",
    "from pathlib import Path\n",
    "from sqlalchemy import create_engine\n",
    "import os\n",
    "import datetime as dt\n",
    "DB_USER = \"root\"\n",
    "DB_PASSWORD = \"micolash12\"\n",
    "DB_HOST = \"localhost\"\n",
    "DATABASE = \"globant_db\"\n",
    "DB_PORT = 3306\n",
    "connect_string = f\"mysql+pymysql://{DB_USER}:{DB_PASSWORD}@{DB_HOST}:{DB_PORT}/{DATABASE}?charset=utf8\"\n",
    "engine = create_engine(connect_string)\n",
    "# Create the connection up and running\n",
    "def get_all_files(dir: str) -> list:\n",
    "    # Return all files names from the data dir without extension\n",
    "    files = [f.replace(\".csv\", \"\") for f in os.listdir(dir) if not f.startswith('.')]\n",
    "    return files\n",
    "\n",
    "async def upload_csv(file: UploadFile = File(...))->str:\n",
    "    # create a path to store the file in the data directory\n",
    "    file_path = os.path.join(\"data\", file.filename)\n",
    "\n",
    "    # open the file and write the contents to the specified path\n",
    "    with open(file_path, \"wb\") as buffer:\n",
    "        buffer.write(await file.read())\n",
    "\n",
    "    return {\"filename\": file.filename}\n",
    "# Create the service of reading the csv\n",
    "## ToDo: Remove\n",
    "def read_csv(file: UploadFile = File()) -> pd.DataFrame:\n",
    "    df = pd.read_csv(file)\n",
    "    return df\n",
    "\n",
    "\n",
    "# Upload the file to the database (batch)\n",
    "def upload_df_to_sql(df: pd.DataFrame, table_name: str) -> None:\n",
    "\n",
    "    # Use the built-in function 'to_sql' to write the dataframe to the database\n",
    "    df.to_sql(table_name, engine, if_exists=\"replace\",\n",
    "              index=False, chunksize=1000)\n",
    "    print(f\"{table_name} csv upload to database\")\n",
    "    return None\n",
    "def add_constraints(table_name:str)->None:\n",
    "    # Use the engine to write the primary key constraint to the database\n",
    "    with engine.connect() as con:\n",
    "        # and in the case of 'hired_employees' we add also a foreign key constraint\n",
    "        con.execute(sa.text(f\"alter table {table_name} add primary key (id);\"))\n",
    "        if (\"hired_employees_t\" in table_name):\n",
    "            con.execute(sa.text(\n",
    "                f\"ALTER TABLE {table_name} ADD CONSTRAINT department_fk FOREIGN KEY(department_id) references departments_t(id)\"\n",
    "            ))\n",
    "            con.execute(sa.text(\n",
    "                f\"ALTER TABLE {table_name} ADD CONSTRAINT job_fk FOREIGN KEY(job_id) references jobs_t(id)\"\n",
    "            ))\n",
    "\n",
    "schema_hired = {\n",
    "    \"id\":int,\n",
    "    \"name\":str,\n",
    "    \"datetime\":dt.datetime,\n",
    "    \"department_id\":int,\n",
    "    \"job_id\":int\n",
    "}\n",
    "schema_jobs = {\n",
    "    \"job_id\":int,\n",
    "    \"job\":str\n",
    "}\n",
    "schema_department = {\n",
    "    \"department_id\":int,\n",
    "    \"department\":str\n",
    "}\n",
    "schemas = [schema_hired,schema_jobs,schema_department]\n",
    "def batch_upload():\n",
    "    \n",
    "    #Read all the csv files in the 'data' directory\n",
    "    file_paths = [f\"./data/{filename}.csv\" for filename in get_all_files(\"data\")]\n",
    "    #Re arrange the file paths in order to execute first with 'jobs' and 'departments' and after the\n",
    "    # 'hired_employees' since the last one depends on the others.\n",
    "    file_paths[1], file_paths[-1] = file_paths[-1], file_paths[1]\n",
    "    [upload_df_to_sql(pd.read_csv(file_path,names=schema.keys()),Path(file_path).stem ) for file_path,schema in zip(file_paths,schemas)]\n",
    "    \n"
   ]
  },
  {
   "cell_type": "code",
   "execution_count": 6,
   "metadata": {},
   "outputs": [
    {
     "name": "stdout",
     "output_type": "stream",
     "text": [
      "hired_employees csv upload to database\n",
      "jobs csv upload to database\n",
      "departments csv upload to database\n"
     ]
    }
   ],
   "source": [
    "batch_upload()\n"
   ]
  },
  {
   "cell_type": "code",
   "execution_count": 7,
   "metadata": {},
   "outputs": [
    {
     "name": "stdout",
     "output_type": "stream",
     "text": [
      "./data/hired_employees.csv {'id': <class 'int'>, 'name': <class 'str'>, 'datetime': <class 'datetime.datetime'>, 'department_id': <class 'int'>, 'job_id': <class 'int'>}\n",
      "./data/jobs.csv {'job_id': <class 'int'>, 'job': <class 'str'>}\n",
      "./data/departments.csv {'department_id': <class 'int'>, 'department': <class 'str'>}\n"
     ]
    }
   ],
   "source": [
    "file_paths = [f\"./data/{filename}.csv\" for filename in get_all_files(\"data\")]\n",
    "file_paths[1], file_paths[-1] = file_paths[-1], file_paths[1]\n",
    "for file_path,schema in zip(file_paths,schemas):\n",
    "    print(file_path,schema)"
   ]
  },
  {
   "cell_type": "code",
   "execution_count": 13,
   "metadata": {},
   "outputs": [
    {
     "name": "stdout",
     "output_type": "stream",
     "text": [
      "<class 'pandas.core.frame.DataFrame'>\n",
      "RangeIndex: 1999 entries, 0 to 1998\n",
      "Data columns (total 5 columns):\n",
      " #   Column         Non-Null Count  Dtype              \n",
      "---  ------         --------------  -----              \n",
      " 0   id             1999 non-null   Int64              \n",
      " 1   name           1980 non-null   object             \n",
      " 2   datetime       1985 non-null   datetime64[ns, UTC]\n",
      " 3   department_id  1978 non-null   Int64              \n",
      " 4   job_id         1983 non-null   Int64              \n",
      "dtypes: Int64(3), datetime64[ns, UTC](1), object(1)\n",
      "memory usage: 84.1+ KB\n",
      "None\n"
     ]
    },
    {
     "data": {
      "text/html": [
       "<div>\n",
       "<style scoped>\n",
       "    .dataframe tbody tr th:only-of-type {\n",
       "        vertical-align: middle;\n",
       "    }\n",
       "\n",
       "    .dataframe tbody tr th {\n",
       "        vertical-align: top;\n",
       "    }\n",
       "\n",
       "    .dataframe thead th {\n",
       "        text-align: right;\n",
       "    }\n",
       "</style>\n",
       "<table border=\"1\" class=\"dataframe\">\n",
       "  <thead>\n",
       "    <tr style=\"text-align: right;\">\n",
       "      <th></th>\n",
       "      <th>id</th>\n",
       "      <th>name</th>\n",
       "      <th>datetime</th>\n",
       "      <th>department_id</th>\n",
       "      <th>job_id</th>\n",
       "    </tr>\n",
       "  </thead>\n",
       "  <tbody>\n",
       "    <tr>\n",
       "      <th>0</th>\n",
       "      <td>1</td>\n",
       "      <td>Harold Vogt</td>\n",
       "      <td>2021-11-07 02:48:42+00:00</td>\n",
       "      <td>2</td>\n",
       "      <td>96</td>\n",
       "    </tr>\n",
       "    <tr>\n",
       "      <th>1</th>\n",
       "      <td>2</td>\n",
       "      <td>Ty Hofer</td>\n",
       "      <td>2021-05-30 05:43:46+00:00</td>\n",
       "      <td>8</td>\n",
       "      <td>&lt;NA&gt;</td>\n",
       "    </tr>\n",
       "    <tr>\n",
       "      <th>2</th>\n",
       "      <td>3</td>\n",
       "      <td>Lyman Hadye</td>\n",
       "      <td>2021-09-01 23:27:38+00:00</td>\n",
       "      <td>5</td>\n",
       "      <td>52</td>\n",
       "    </tr>\n",
       "    <tr>\n",
       "      <th>3</th>\n",
       "      <td>4</td>\n",
       "      <td>Lotti Crowthe</td>\n",
       "      <td>2021-10-01 13:04:21+00:00</td>\n",
       "      <td>12</td>\n",
       "      <td>71</td>\n",
       "    </tr>\n",
       "    <tr>\n",
       "      <th>4</th>\n",
       "      <td>5</td>\n",
       "      <td>Gretna Lording</td>\n",
       "      <td>2021-10-10 22:22:17+00:00</td>\n",
       "      <td>6</td>\n",
       "      <td>80</td>\n",
       "    </tr>\n",
       "  </tbody>\n",
       "</table>\n",
       "</div>"
      ],
      "text/plain": [
       "   id            name                  datetime  department_id  job_id\n",
       "0   1     Harold Vogt 2021-11-07 02:48:42+00:00              2      96\n",
       "1   2        Ty Hofer 2021-05-30 05:43:46+00:00              8    <NA>\n",
       "2   3     Lyman Hadye 2021-09-01 23:27:38+00:00              5      52\n",
       "3   4   Lotti Crowthe 2021-10-01 13:04:21+00:00             12      71\n",
       "4   5  Gretna Lording 2021-10-10 22:22:17+00:00              6      80"
      ]
     },
     "execution_count": 13,
     "metadata": {},
     "output_type": "execute_result"
    }
   ],
   "source": [
    "schema_hired = {\n",
    "    \"id\":\"int64\",\n",
    "    \"name\":\"object\",\n",
    "    \"datetime\":\"object\",\n",
    "    \"department_id\":\"int64\",\n",
    "    \"job_id\":\"int64\"\n",
    "}\n",
    "df = pd.read_csv(\"./data/hired_employees.csv\",names=schema_hired.keys(),dtype=schema_hired,parse_dates=[\"datetime\"])\n",
    "\n",
    "\n",
    "print(df.info())\n",
    "df.head()\n"
   ]
  },
  {
   "cell_type": "code",
   "execution_count": 16,
   "metadata": {},
   "outputs": [
    {
     "name": "stdout",
     "output_type": "stream",
     "text": [
      "<class 'pandas.core.frame.DataFrame'>\n",
      "RangeIndex: 183 entries, 0 to 182\n",
      "Data columns (total 2 columns):\n",
      " #   Column  Non-Null Count  Dtype \n",
      "---  ------  --------------  ----- \n",
      " 0   job_id  183 non-null    int64 \n",
      " 1   job     183 non-null    object\n",
      "dtypes: int64(1), object(1)\n",
      "memory usage: 3.0+ KB\n",
      "None\n"
     ]
    },
    {
     "data": {
      "text/html": [
       "<div>\n",
       "<style scoped>\n",
       "    .dataframe tbody tr th:only-of-type {\n",
       "        vertical-align: middle;\n",
       "    }\n",
       "\n",
       "    .dataframe tbody tr th {\n",
       "        vertical-align: top;\n",
       "    }\n",
       "\n",
       "    .dataframe thead th {\n",
       "        text-align: right;\n",
       "    }\n",
       "</style>\n",
       "<table border=\"1\" class=\"dataframe\">\n",
       "  <thead>\n",
       "    <tr style=\"text-align: right;\">\n",
       "      <th></th>\n",
       "      <th>job_id</th>\n",
       "      <th>job</th>\n",
       "    </tr>\n",
       "  </thead>\n",
       "  <tbody>\n",
       "    <tr>\n",
       "      <th>0</th>\n",
       "      <td>1</td>\n",
       "      <td>Marketing Assistant</td>\n",
       "    </tr>\n",
       "    <tr>\n",
       "      <th>1</th>\n",
       "      <td>2</td>\n",
       "      <td>VP Sales</td>\n",
       "    </tr>\n",
       "    <tr>\n",
       "      <th>2</th>\n",
       "      <td>3</td>\n",
       "      <td>Biostatistician IV</td>\n",
       "    </tr>\n",
       "    <tr>\n",
       "      <th>3</th>\n",
       "      <td>4</td>\n",
       "      <td>Account Representative II</td>\n",
       "    </tr>\n",
       "    <tr>\n",
       "      <th>4</th>\n",
       "      <td>5</td>\n",
       "      <td>VP Marketing</td>\n",
       "    </tr>\n",
       "  </tbody>\n",
       "</table>\n",
       "</div>"
      ],
      "text/plain": [
       "   job_id                        job\n",
       "0       1        Marketing Assistant\n",
       "1       2                   VP Sales\n",
       "2       3         Biostatistician IV\n",
       "3       4  Account Representative II\n",
       "4       5               VP Marketing"
      ]
     },
     "execution_count": 16,
     "metadata": {},
     "output_type": "execute_result"
    }
   ],
   "source": [
    "\n",
    "df = pd.read_csv(\"./data/jobs.csv\",names=schema_jobs.keys())\n",
    "print(df.info())\n",
    "df.head()\n"
   ]
  },
  {
   "cell_type": "code",
   "execution_count": 14,
   "metadata": {},
   "outputs": [
    {
     "name": "stdout",
     "output_type": "stream",
     "text": [
      "<class 'pandas.core.frame.DataFrame'>\n",
      "RangeIndex: 12 entries, 0 to 11\n",
      "Data columns (total 2 columns):\n",
      " #   Column         Non-Null Count  Dtype \n",
      "---  ------         --------------  ----- \n",
      " 0   department_id  12 non-null     int64 \n",
      " 1   department     12 non-null     object\n",
      "dtypes: int64(1), object(1)\n",
      "memory usage: 324.0+ bytes\n",
      "None\n"
     ]
    },
    {
     "data": {
      "text/html": [
       "<div>\n",
       "<style scoped>\n",
       "    .dataframe tbody tr th:only-of-type {\n",
       "        vertical-align: middle;\n",
       "    }\n",
       "\n",
       "    .dataframe tbody tr th {\n",
       "        vertical-align: top;\n",
       "    }\n",
       "\n",
       "    .dataframe thead th {\n",
       "        text-align: right;\n",
       "    }\n",
       "</style>\n",
       "<table border=\"1\" class=\"dataframe\">\n",
       "  <thead>\n",
       "    <tr style=\"text-align: right;\">\n",
       "      <th></th>\n",
       "      <th>department_id</th>\n",
       "      <th>department</th>\n",
       "    </tr>\n",
       "  </thead>\n",
       "  <tbody>\n",
       "    <tr>\n",
       "      <th>0</th>\n",
       "      <td>1</td>\n",
       "      <td>Product Management</td>\n",
       "    </tr>\n",
       "    <tr>\n",
       "      <th>1</th>\n",
       "      <td>2</td>\n",
       "      <td>Sales</td>\n",
       "    </tr>\n",
       "    <tr>\n",
       "      <th>2</th>\n",
       "      <td>3</td>\n",
       "      <td>Research and Development</td>\n",
       "    </tr>\n",
       "    <tr>\n",
       "      <th>3</th>\n",
       "      <td>4</td>\n",
       "      <td>Business Development</td>\n",
       "    </tr>\n",
       "    <tr>\n",
       "      <th>4</th>\n",
       "      <td>5</td>\n",
       "      <td>Engineering</td>\n",
       "    </tr>\n",
       "  </tbody>\n",
       "</table>\n",
       "</div>"
      ],
      "text/plain": [
       "   department_id                department\n",
       "0              1        Product Management\n",
       "1              2                     Sales\n",
       "2              3  Research and Development\n",
       "3              4      Business Development\n",
       "4              5               Engineering"
      ]
     },
     "execution_count": 14,
     "metadata": {},
     "output_type": "execute_result"
    }
   ],
   "source": [
    "df = pd.read_csv(\"./data/departments.csv\",names=schema_department.keys())\n",
    "print(df.info())\n",
    "df.head()\n"
   ]
  }
 ],
 "metadata": {
  "kernelspec": {
   "display_name": "Python 3",
   "language": "python",
   "name": "python3"
  },
  "language_info": {
   "codemirror_mode": {
    "name": "ipython",
    "version": 3
   },
   "file_extension": ".py",
   "mimetype": "text/x-python",
   "name": "python",
   "nbconvert_exporter": "python",
   "pygments_lexer": "ipython3",
   "version": "3.11.2"
  },
  "orig_nbformat": 4
 },
 "nbformat": 4,
 "nbformat_minor": 2
}
